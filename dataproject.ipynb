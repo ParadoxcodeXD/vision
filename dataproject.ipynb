{
  "nbformat": 4,
  "nbformat_minor": 0,
  "metadata": {
    "colab": {
      "provenance": [],
      "toc_visible": true,
      "mount_file_id": "1IGl3CZlA2ulhKfJLlPS7UR3f-wBzh_LV",
      "authorship_tag": "ABX9TyN0Wu+2Hzp/TxUUSN00p+9q",
      "include_colab_link": true
    },
    "kernelspec": {
      "name": "python3",
      "display_name": "Python 3"
    },
    "language_info": {
      "name": "python"
    }
  },
  "cells": [
    {
      "cell_type": "markdown",
      "metadata": {
        "id": "view-in-github",
        "colab_type": "text"
      },
      "source": [
        "<a href=\"https://colab.research.google.com/github/ParadoxcodeXD/vision/blob/main/dataproject.ipynb\" target=\"_parent\"><img src=\"https://colab.research.google.com/assets/colab-badge.svg\" alt=\"Open In Colab\"/></a>"
      ]
    },
    {
      "cell_type": "markdown",
      "source": [
        "## 5.1.4 데이터 불러오기"
      ],
      "metadata": {
        "id": "cY0tgCKEz1ql"
      }
    },
    {
      "cell_type": "code",
      "source": [
        "from google.colab import drive\n",
        "drive.mount('/content/drive')"
      ],
      "metadata": {
        "colab": {
          "base_uri": "https://localhost:8080/"
        },
        "id": "qaGyEYHkqsaB",
        "outputId": "26e4531f-bcad-485f-fead-d34048c752e1"
      },
      "execution_count": 1,
      "outputs": [
        {
          "output_type": "stream",
          "name": "stdout",
          "text": [
            "Drive already mounted at /content/drive; to attempt to forcibly remount, call drive.mount(\"/content/drive\", force_remount=True).\n"
          ]
        }
      ]
    },
    {
      "cell_type": "code",
      "source": [
        "import pandas as pd\n",
        "import numpy as np\n",
        "import matplotlib.pyplot as plt\n",
        "import seaborn as sns\n",
        "import plotly.express as px\n",
        "import plotly.graph_objs as go\n",
        "from plotly.subplots import make_subplots\n",
        "\n",
        "%matplotlib inline"
      ],
      "metadata": {
        "id": "qTpU6yGZrBdQ"
      },
      "execution_count": 2,
      "outputs": []
    },
    {
      "cell_type": "code",
      "source": [
        "df = pd.read_csv('/content/drive/MyDrive/Colab Notebooks/project/Playstore_final.csv', on_bad_lines = 'skip')"
      ],
      "metadata": {
        "colab": {
          "base_uri": "https://localhost:8080/"
        },
        "id": "LrHzZeLVsoF0",
        "outputId": "28ade2f4-0d70-440d-8a51-6cc9ac7bb630"
      },
      "execution_count": 3,
      "outputs": [
        {
          "output_type": "stream",
          "name": "stderr",
          "text": [
            "<ipython-input-3-88cd12c5a16c>:1: DtypeWarning: Columns (7,12) have mixed types. Specify dtype option on import or set low_memory=False.\n",
            "  df = pd.read_csv('/content/drive/MyDrive/Colab Notebooks/project/Playstore_final.csv', on_bad_lines = 'skip')\n"
          ]
        }
      ]
    },
    {
      "cell_type": "code",
      "source": [
        "df.head() # 타겟 변수를 Rating으로 진행"
      ],
      "metadata": {
        "colab": {
          "base_uri": "https://localhost:8080/",
          "height": 768
        },
        "id": "P6SzD0uWwL-1",
        "outputId": "93572450-8a87-4753-ba17-70c725151a65"
      },
      "execution_count": 4,
      "outputs": [
        {
          "output_type": "execute_result",
          "data": {
            "text/plain": [
              "                  App Name                                             App Id  \\\n",
              "0     Logistics Management              com.eniseistudio.logistics_management   \n",
              "1  Estados Unidos Noticias               com.eniseistudio.news.estados_unidos   \n",
              "2         Dental Assistant                  com.eniseistudio.dental_assistant   \n",
              "3        Medical Assistant          com.eniseistudio.course.medical_assistant   \n",
              "4  Business Administration  com.eniseistudio.majors.course.business_admini...   \n",
              "\n",
              "           Category    Rating  Rating Count Installs  Minimum Installs  Free  \\\n",
              "0         Education  4.090909          66.0  10,000+           10000.0  True   \n",
              "1  News & Magazines  4.000000           8.0   1,000+            1000.0  True   \n",
              "2         Education  3.866667          15.0  10,000+           10000.0  True   \n",
              "3         Education  4.000000          18.0   5,000+            5000.0  True   \n",
              "4         Education  4.023256          86.0  50,000+           50000.0  True   \n",
              "\n",
              "   Price Currency  ... Ad Supported In app purchases Editor Choice  \\\n",
              "0    0.0      USD  ...         True            False         False   \n",
              "1    0.0      USD  ...         True            False         False   \n",
              "2    0.0      USD  ...         True            False         False   \n",
              "3    0.0      USD  ...         True            False         False   \n",
              "4    0.0      USD  ...         True            False         False   \n",
              "\n",
              "                                             Summary Reviews  \\\n",
              "0  Leading Online Learning and Training System in...    28.0   \n",
              "1  Top Stories\\r\\nWorld\\r\\nEntertainment\\r\\nSport...     3.0   \n",
              "2  Dental Assistant: Study Dental Assistant, Dent...     3.0   \n",
              "3  Medical Assistant Degree Medical Assistant Job...     7.0   \n",
              "4  Business Administration Learning, Business Adm...    29.0   \n",
              "\n",
              "  Android version Text     Developer  \\\n",
              "0           4.0 and up  eniseistudio   \n",
              "1           4.0 and up  eniseistudio   \n",
              "2           4.0 and up  eniseistudio   \n",
              "3           4.0 and up  eniseistudio   \n",
              "4           4.0 and up  eniseistudio   \n",
              "\n",
              "                                   Developer Address Developer Internal ID  \\\n",
              "0  7115 N Muscatel Ave San Gabriel, CA 91775 Unit...          4.656447e+18   \n",
              "1  7115 N Muscatel Ave San Gabriel, CA 91775 Unit...          4.656447e+18   \n",
              "2  7115 N Muscatel Ave San Gabriel, CA 91775 Unit...          4.656447e+18   \n",
              "3  7115 N Muscatel Ave San Gabriel, CA 91775 Unit...          4.656447e+18   \n",
              "4  7115 N Muscatel Ave San Gabriel, CA 91775 Unit...          4.656447e+18   \n",
              "\n",
              "  Version  \n",
              "0   1.1.5  \n",
              "1   1.2.3  \n",
              "2   1.1.5  \n",
              "3   1.1.4  \n",
              "4   1.1.6  \n",
              "\n",
              "[5 rows x 29 columns]"
            ],
            "text/html": [
              "\n",
              "  <div id=\"df-017749d6-e2e0-4bdd-a90f-51ef7c5cc7b8\">\n",
              "    <div class=\"colab-df-container\">\n",
              "      <div>\n",
              "<style scoped>\n",
              "    .dataframe tbody tr th:only-of-type {\n",
              "        vertical-align: middle;\n",
              "    }\n",
              "\n",
              "    .dataframe tbody tr th {\n",
              "        vertical-align: top;\n",
              "    }\n",
              "\n",
              "    .dataframe thead th {\n",
              "        text-align: right;\n",
              "    }\n",
              "</style>\n",
              "<table border=\"1\" class=\"dataframe\">\n",
              "  <thead>\n",
              "    <tr style=\"text-align: right;\">\n",
              "      <th></th>\n",
              "      <th>App Name</th>\n",
              "      <th>App Id</th>\n",
              "      <th>Category</th>\n",
              "      <th>Rating</th>\n",
              "      <th>Rating Count</th>\n",
              "      <th>Installs</th>\n",
              "      <th>Minimum Installs</th>\n",
              "      <th>Free</th>\n",
              "      <th>Price</th>\n",
              "      <th>Currency</th>\n",
              "      <th>...</th>\n",
              "      <th>Ad Supported</th>\n",
              "      <th>In app purchases</th>\n",
              "      <th>Editor Choice</th>\n",
              "      <th>Summary</th>\n",
              "      <th>Reviews</th>\n",
              "      <th>Android version Text</th>\n",
              "      <th>Developer</th>\n",
              "      <th>Developer Address</th>\n",
              "      <th>Developer Internal ID</th>\n",
              "      <th>Version</th>\n",
              "    </tr>\n",
              "  </thead>\n",
              "  <tbody>\n",
              "    <tr>\n",
              "      <th>0</th>\n",
              "      <td>Logistics Management</td>\n",
              "      <td>com.eniseistudio.logistics_management</td>\n",
              "      <td>Education</td>\n",
              "      <td>4.090909</td>\n",
              "      <td>66.0</td>\n",
              "      <td>10,000+</td>\n",
              "      <td>10000.0</td>\n",
              "      <td>True</td>\n",
              "      <td>0.0</td>\n",
              "      <td>USD</td>\n",
              "      <td>...</td>\n",
              "      <td>True</td>\n",
              "      <td>False</td>\n",
              "      <td>False</td>\n",
              "      <td>Leading Online Learning and Training System in...</td>\n",
              "      <td>28.0</td>\n",
              "      <td>4.0 and up</td>\n",
              "      <td>eniseistudio</td>\n",
              "      <td>7115 N Muscatel Ave San Gabriel, CA 91775 Unit...</td>\n",
              "      <td>4.656447e+18</td>\n",
              "      <td>1.1.5</td>\n",
              "    </tr>\n",
              "    <tr>\n",
              "      <th>1</th>\n",
              "      <td>Estados Unidos Noticias</td>\n",
              "      <td>com.eniseistudio.news.estados_unidos</td>\n",
              "      <td>News &amp; Magazines</td>\n",
              "      <td>4.000000</td>\n",
              "      <td>8.0</td>\n",
              "      <td>1,000+</td>\n",
              "      <td>1000.0</td>\n",
              "      <td>True</td>\n",
              "      <td>0.0</td>\n",
              "      <td>USD</td>\n",
              "      <td>...</td>\n",
              "      <td>True</td>\n",
              "      <td>False</td>\n",
              "      <td>False</td>\n",
              "      <td>Top Stories\\r\\nWorld\\r\\nEntertainment\\r\\nSport...</td>\n",
              "      <td>3.0</td>\n",
              "      <td>4.0 and up</td>\n",
              "      <td>eniseistudio</td>\n",
              "      <td>7115 N Muscatel Ave San Gabriel, CA 91775 Unit...</td>\n",
              "      <td>4.656447e+18</td>\n",
              "      <td>1.2.3</td>\n",
              "    </tr>\n",
              "    <tr>\n",
              "      <th>2</th>\n",
              "      <td>Dental Assistant</td>\n",
              "      <td>com.eniseistudio.dental_assistant</td>\n",
              "      <td>Education</td>\n",
              "      <td>3.866667</td>\n",
              "      <td>15.0</td>\n",
              "      <td>10,000+</td>\n",
              "      <td>10000.0</td>\n",
              "      <td>True</td>\n",
              "      <td>0.0</td>\n",
              "      <td>USD</td>\n",
              "      <td>...</td>\n",
              "      <td>True</td>\n",
              "      <td>False</td>\n",
              "      <td>False</td>\n",
              "      <td>Dental Assistant: Study Dental Assistant, Dent...</td>\n",
              "      <td>3.0</td>\n",
              "      <td>4.0 and up</td>\n",
              "      <td>eniseistudio</td>\n",
              "      <td>7115 N Muscatel Ave San Gabriel, CA 91775 Unit...</td>\n",
              "      <td>4.656447e+18</td>\n",
              "      <td>1.1.5</td>\n",
              "    </tr>\n",
              "    <tr>\n",
              "      <th>3</th>\n",
              "      <td>Medical Assistant</td>\n",
              "      <td>com.eniseistudio.course.medical_assistant</td>\n",
              "      <td>Education</td>\n",
              "      <td>4.000000</td>\n",
              "      <td>18.0</td>\n",
              "      <td>5,000+</td>\n",
              "      <td>5000.0</td>\n",
              "      <td>True</td>\n",
              "      <td>0.0</td>\n",
              "      <td>USD</td>\n",
              "      <td>...</td>\n",
              "      <td>True</td>\n",
              "      <td>False</td>\n",
              "      <td>False</td>\n",
              "      <td>Medical Assistant Degree Medical Assistant Job...</td>\n",
              "      <td>7.0</td>\n",
              "      <td>4.0 and up</td>\n",
              "      <td>eniseistudio</td>\n",
              "      <td>7115 N Muscatel Ave San Gabriel, CA 91775 Unit...</td>\n",
              "      <td>4.656447e+18</td>\n",
              "      <td>1.1.4</td>\n",
              "    </tr>\n",
              "    <tr>\n",
              "      <th>4</th>\n",
              "      <td>Business Administration</td>\n",
              "      <td>com.eniseistudio.majors.course.business_admini...</td>\n",
              "      <td>Education</td>\n",
              "      <td>4.023256</td>\n",
              "      <td>86.0</td>\n",
              "      <td>50,000+</td>\n",
              "      <td>50000.0</td>\n",
              "      <td>True</td>\n",
              "      <td>0.0</td>\n",
              "      <td>USD</td>\n",
              "      <td>...</td>\n",
              "      <td>True</td>\n",
              "      <td>False</td>\n",
              "      <td>False</td>\n",
              "      <td>Business Administration Learning, Business Adm...</td>\n",
              "      <td>29.0</td>\n",
              "      <td>4.0 and up</td>\n",
              "      <td>eniseistudio</td>\n",
              "      <td>7115 N Muscatel Ave San Gabriel, CA 91775 Unit...</td>\n",
              "      <td>4.656447e+18</td>\n",
              "      <td>1.1.6</td>\n",
              "    </tr>\n",
              "  </tbody>\n",
              "</table>\n",
              "<p>5 rows × 29 columns</p>\n",
              "</div>\n",
              "      <button class=\"colab-df-convert\" onclick=\"convertToInteractive('df-017749d6-e2e0-4bdd-a90f-51ef7c5cc7b8')\"\n",
              "              title=\"Convert this dataframe to an interactive table.\"\n",
              "              style=\"display:none;\">\n",
              "        \n",
              "  <svg xmlns=\"http://www.w3.org/2000/svg\" height=\"24px\"viewBox=\"0 0 24 24\"\n",
              "       width=\"24px\">\n",
              "    <path d=\"M0 0h24v24H0V0z\" fill=\"none\"/>\n",
              "    <path d=\"M18.56 5.44l.94 2.06.94-2.06 2.06-.94-2.06-.94-.94-2.06-.94 2.06-2.06.94zm-11 1L8.5 8.5l.94-2.06 2.06-.94-2.06-.94L8.5 2.5l-.94 2.06-2.06.94zm10 10l.94 2.06.94-2.06 2.06-.94-2.06-.94-.94-2.06-.94 2.06-2.06.94z\"/><path d=\"M17.41 7.96l-1.37-1.37c-.4-.4-.92-.59-1.43-.59-.52 0-1.04.2-1.43.59L10.3 9.45l-7.72 7.72c-.78.78-.78 2.05 0 2.83L4 21.41c.39.39.9.59 1.41.59.51 0 1.02-.2 1.41-.59l7.78-7.78 2.81-2.81c.8-.78.8-2.07 0-2.86zM5.41 20L4 18.59l7.72-7.72 1.47 1.35L5.41 20z\"/>\n",
              "  </svg>\n",
              "      </button>\n",
              "      \n",
              "  <style>\n",
              "    .colab-df-container {\n",
              "      display:flex;\n",
              "      flex-wrap:wrap;\n",
              "      gap: 12px;\n",
              "    }\n",
              "\n",
              "    .colab-df-convert {\n",
              "      background-color: #E8F0FE;\n",
              "      border: none;\n",
              "      border-radius: 50%;\n",
              "      cursor: pointer;\n",
              "      display: none;\n",
              "      fill: #1967D2;\n",
              "      height: 32px;\n",
              "      padding: 0 0 0 0;\n",
              "      width: 32px;\n",
              "    }\n",
              "\n",
              "    .colab-df-convert:hover {\n",
              "      background-color: #E2EBFA;\n",
              "      box-shadow: 0px 1px 2px rgba(60, 64, 67, 0.3), 0px 1px 3px 1px rgba(60, 64, 67, 0.15);\n",
              "      fill: #174EA6;\n",
              "    }\n",
              "\n",
              "    [theme=dark] .colab-df-convert {\n",
              "      background-color: #3B4455;\n",
              "      fill: #D2E3FC;\n",
              "    }\n",
              "\n",
              "    [theme=dark] .colab-df-convert:hover {\n",
              "      background-color: #434B5C;\n",
              "      box-shadow: 0px 1px 3px 1px rgba(0, 0, 0, 0.15);\n",
              "      filter: drop-shadow(0px 1px 2px rgba(0, 0, 0, 0.3));\n",
              "      fill: #FFFFFF;\n",
              "    }\n",
              "  </style>\n",
              "\n",
              "      <script>\n",
              "        const buttonEl =\n",
              "          document.querySelector('#df-017749d6-e2e0-4bdd-a90f-51ef7c5cc7b8 button.colab-df-convert');\n",
              "        buttonEl.style.display =\n",
              "          google.colab.kernel.accessAllowed ? 'block' : 'none';\n",
              "\n",
              "        async function convertToInteractive(key) {\n",
              "          const element = document.querySelector('#df-017749d6-e2e0-4bdd-a90f-51ef7c5cc7b8');\n",
              "          const dataTable =\n",
              "            await google.colab.kernel.invokeFunction('convertToInteractive',\n",
              "                                                     [key], {});\n",
              "          if (!dataTable) return;\n",
              "\n",
              "          const docLinkHtml = 'Like what you see? Visit the ' +\n",
              "            '<a target=\"_blank\" href=https://colab.research.google.com/notebooks/data_table.ipynb>data table notebook</a>'\n",
              "            + ' to learn more about interactive tables.';\n",
              "          element.innerHTML = '';\n",
              "          dataTable['output_type'] = 'display_data';\n",
              "          await google.colab.output.renderOutput(dataTable, element);\n",
              "          const docLink = document.createElement('div');\n",
              "          docLink.innerHTML = docLinkHtml;\n",
              "          element.appendChild(docLink);\n",
              "        }\n",
              "      </script>\n",
              "    </div>\n",
              "  </div>\n",
              "  "
            ]
          },
          "metadata": {},
          "execution_count": 4
        }
      ]
    },
    {
      "cell_type": "code",
      "source": [
        "df = df.dropna()"
      ],
      "metadata": {
        "id": "nSyHlavLwM5P"
      },
      "execution_count": 5,
      "outputs": []
    },
    {
      "cell_type": "markdown",
      "source": [
        "## 5.1.5 ID 변수 설정"
      ],
      "metadata": {
        "id": "_6UmD1h6z_nm"
      }
    },
    {
      "cell_type": "code",
      "source": [
        "df['App Id'].dtypes"
      ],
      "metadata": {
        "colab": {
          "base_uri": "https://localhost:8080/"
        },
        "id": "1n6w_wv0aozW",
        "outputId": "1b0f439b-0ebc-4628-a660-1cd154976545"
      },
      "execution_count": 6,
      "outputs": [
        {
          "output_type": "execute_result",
          "data": {
            "text/plain": [
              "dtype('O')"
            ]
          },
          "metadata": {},
          "execution_count": 6
        }
      ]
    },
    {
      "cell_type": "code",
      "source": [
        "df['App Id'].isnull().sum()  # ID 변수인 id 값의 결측값 확인"
      ],
      "metadata": {
        "colab": {
          "base_uri": "https://localhost:8080/"
        },
        "id": "iqJKVmT5b3Kh",
        "outputId": "c45ce67c-86e9-45e7-81a7-33b93cedae4f"
      },
      "execution_count": 7,
      "outputs": [
        {
          "output_type": "execute_result",
          "data": {
            "text/plain": [
              "0"
            ]
          },
          "metadata": {},
          "execution_count": 7
        }
      ]
    },
    {
      "cell_type": "code",
      "source": [
        "# ID 변수인 id 값의 중복 여부를 체크하기 위해 유일한(unique) 값의 개수 체크 \n",
        "\n",
        "n = len(pd.unique(df['App Id']))   # pd.unique는 유일한 변수값을 출력하고 len은 값의 개수를 카운트  \n",
        "print(n)"
      ],
      "metadata": {
        "colab": {
          "base_uri": "https://localhost:8080/"
        },
        "id": "tBjwOCZwcIFb",
        "outputId": "f5edc894-9383-4a00-daae-6d2b25d6f548"
      },
      "execution_count": 8,
      "outputs": [
        {
          "output_type": "stream",
          "name": "stdout",
          "text": [
            "101234\n"
          ]
        }
      ]
    },
    {
      "cell_type": "markdown",
      "source": [
        "## 5.1.7 타겟변수 생성"
      ],
      "metadata": {
        "id": "xIx6m7eM0K9g"
      }
    },
    {
      "cell_type": "code",
      "source": [
        "df['Rating'].dtype"
      ],
      "metadata": {
        "colab": {
          "base_uri": "https://localhost:8080/"
        },
        "id": "PTTkfTcucUFX",
        "outputId": "41f1131c-9b23-4a0b-ebde-9a350be0568c"
      },
      "execution_count": 9,
      "outputs": [
        {
          "output_type": "execute_result",
          "data": {
            "text/plain": [
              "dtype('float64')"
            ]
          },
          "metadata": {},
          "execution_count": 9
        }
      ]
    },
    {
      "cell_type": "code",
      "source": [
        "df['Rating'].isnull().sum()"
      ],
      "metadata": {
        "colab": {
          "base_uri": "https://localhost:8080/"
        },
        "id": "fw9l5ImReLoT",
        "outputId": "f64940f1-c9eb-49d5-87b9-c79186063940"
      },
      "execution_count": 10,
      "outputs": [
        {
          "output_type": "execute_result",
          "data": {
            "text/plain": [
              "0"
            ]
          },
          "metadata": {},
          "execution_count": 10
        }
      ]
    },
    {
      "cell_type": "code",
      "source": [
        "df['Rating'].value_counts(dropna=False)"
      ],
      "metadata": {
        "colab": {
          "base_uri": "https://localhost:8080/"
        },
        "id": "QXhqmspDeQ98",
        "outputId": "47308edd-8ef5-409a-cc09-bee8ec95bd66"
      },
      "execution_count": 11,
      "outputs": [
        {
          "output_type": "execute_result",
          "data": {
            "text/plain": [
              "4.000000    1448\n",
              "5.000000    1441\n",
              "4.500000     840\n",
              "4.200000     703\n",
              "4.333334     658\n",
              "            ... \n",
              "2.197183       1\n",
              "3.809836       1\n",
              "3.901288       1\n",
              "3.913344       1\n",
              "3.981408       1\n",
              "Name: Rating, Length: 37345, dtype: int64"
            ]
          },
          "metadata": {},
          "execution_count": 11
        }
      ]
    },
    {
      "cell_type": "code",
      "source": [
        "df['Rating'].value_counts(dropna=False, normalize=True)"
      ],
      "metadata": {
        "colab": {
          "base_uri": "https://localhost:8080/"
        },
        "id": "XNjJxln5eW5-",
        "outputId": "adacf4ed-5777-466a-ae33-ec132e95e61d"
      },
      "execution_count": 12,
      "outputs": [
        {
          "output_type": "execute_result",
          "data": {
            "text/plain": [
              "4.000000    0.013742\n",
              "5.000000    0.013675\n",
              "4.500000    0.007972\n",
              "4.200000    0.006672\n",
              "4.333334    0.006245\n",
              "              ...   \n",
              "2.197183    0.000009\n",
              "3.809836    0.000009\n",
              "3.901288    0.000009\n",
              "3.913344    0.000009\n",
              "3.981408    0.000009\n",
              "Name: Rating, Length: 37345, dtype: float64"
            ]
          },
          "metadata": {},
          "execution_count": 12
        }
      ]
    },
    {
      "cell_type": "code",
      "source": [
        "df['Rating'].median()"
      ],
      "metadata": {
        "colab": {
          "base_uri": "https://localhost:8080/"
        },
        "id": "oJObbDUpegvc",
        "outputId": "22e7afa4-5cba-4392-c978-e902d82e7db2"
      },
      "execution_count": 13,
      "outputs": [
        {
          "output_type": "execute_result",
          "data": {
            "text/plain": [
              "4.2"
            ]
          },
          "metadata": {},
          "execution_count": 13
        }
      ]
    },
    {
      "cell_type": "code",
      "source": [
        "df.loc[df['Rating'] >= 4.2, \"Rating_b\"]=1\n",
        "df.loc[df['Rating'] < 4.2, \"Rating_b\"]=0\n",
        "df['Rating_b'].value_counts(dropna=False)"
      ],
      "metadata": {
        "colab": {
          "base_uri": "https://localhost:8080/"
        },
        "id": "Qz4qRuHOnLLG",
        "outputId": "75f5ec31-97c1-4fc4-856f-eab2cf57ce29"
      },
      "execution_count": 14,
      "outputs": [
        {
          "output_type": "execute_result",
          "data": {
            "text/plain": [
              "1.0    52845\n",
              "0.0    52527\n",
              "Name: Rating_b, dtype: int64"
            ]
          },
          "metadata": {},
          "execution_count": 14
        }
      ]
    },
    {
      "cell_type": "markdown",
      "source": [
        "## 5.1.7 기타 변수 데이터 처리"
      ],
      "metadata": {
        "id": "DfUzMN_f0R8V"
      }
    },
    {
      "cell_type": "code",
      "source": [
        "cols = ['Minimum Installs','Reviews'] # 구간 변수를 cols에 저장\n",
        "df[cols].dtypes"
      ],
      "metadata": {
        "id": "EYZ_jJ6OnLsB",
        "colab": {
          "base_uri": "https://localhost:8080/"
        },
        "outputId": "065a83d7-e366-4af3-adc5-075a152b41dc"
      },
      "execution_count": 15,
      "outputs": [
        {
          "output_type": "execute_result",
          "data": {
            "text/plain": [
              "Minimum Installs    float64\n",
              "Reviews             float64\n",
              "dtype: object"
            ]
          },
          "metadata": {},
          "execution_count": 15
        }
      ]
    },
    {
      "cell_type": "code",
      "source": [
        "pd.options.display.float_format = '{:.2f}'.format # 소숫점 2자리로 숫자 표기 제한\n",
        "df[cols].describe()"
      ],
      "metadata": {
        "id": "d8xdpgDjqJjy",
        "colab": {
          "base_uri": "https://localhost:8080/",
          "height": 300
        },
        "outputId": "0a588588-694e-4a6a-8339-3cd7d1f3648f"
      },
      "execution_count": 16,
      "outputs": [
        {
          "output_type": "execute_result",
          "data": {
            "text/plain": [
              "       Minimum Installs     Reviews\n",
              "count         105372.00   105372.00\n",
              "mean         1655931.02    12405.23\n",
              "std         31156977.12   258328.96\n",
              "min                0.00        0.00\n",
              "25%             5000.00       20.00\n",
              "50%            50000.00      142.00\n",
              "75%           500000.00     1295.00\n",
              "max       5000000000.00 39985223.00"
            ],
            "text/html": [
              "\n",
              "  <div id=\"df-dba6b068-c6ba-4657-aab2-639adc57d0e4\">\n",
              "    <div class=\"colab-df-container\">\n",
              "      <div>\n",
              "<style scoped>\n",
              "    .dataframe tbody tr th:only-of-type {\n",
              "        vertical-align: middle;\n",
              "    }\n",
              "\n",
              "    .dataframe tbody tr th {\n",
              "        vertical-align: top;\n",
              "    }\n",
              "\n",
              "    .dataframe thead th {\n",
              "        text-align: right;\n",
              "    }\n",
              "</style>\n",
              "<table border=\"1\" class=\"dataframe\">\n",
              "  <thead>\n",
              "    <tr style=\"text-align: right;\">\n",
              "      <th></th>\n",
              "      <th>Minimum Installs</th>\n",
              "      <th>Reviews</th>\n",
              "    </tr>\n",
              "  </thead>\n",
              "  <tbody>\n",
              "    <tr>\n",
              "      <th>count</th>\n",
              "      <td>105372.00</td>\n",
              "      <td>105372.00</td>\n",
              "    </tr>\n",
              "    <tr>\n",
              "      <th>mean</th>\n",
              "      <td>1655931.02</td>\n",
              "      <td>12405.23</td>\n",
              "    </tr>\n",
              "    <tr>\n",
              "      <th>std</th>\n",
              "      <td>31156977.12</td>\n",
              "      <td>258328.96</td>\n",
              "    </tr>\n",
              "    <tr>\n",
              "      <th>min</th>\n",
              "      <td>0.00</td>\n",
              "      <td>0.00</td>\n",
              "    </tr>\n",
              "    <tr>\n",
              "      <th>25%</th>\n",
              "      <td>5000.00</td>\n",
              "      <td>20.00</td>\n",
              "    </tr>\n",
              "    <tr>\n",
              "      <th>50%</th>\n",
              "      <td>50000.00</td>\n",
              "      <td>142.00</td>\n",
              "    </tr>\n",
              "    <tr>\n",
              "      <th>75%</th>\n",
              "      <td>500000.00</td>\n",
              "      <td>1295.00</td>\n",
              "    </tr>\n",
              "    <tr>\n",
              "      <th>max</th>\n",
              "      <td>5000000000.00</td>\n",
              "      <td>39985223.00</td>\n",
              "    </tr>\n",
              "  </tbody>\n",
              "</table>\n",
              "</div>\n",
              "      <button class=\"colab-df-convert\" onclick=\"convertToInteractive('df-dba6b068-c6ba-4657-aab2-639adc57d0e4')\"\n",
              "              title=\"Convert this dataframe to an interactive table.\"\n",
              "              style=\"display:none;\">\n",
              "        \n",
              "  <svg xmlns=\"http://www.w3.org/2000/svg\" height=\"24px\"viewBox=\"0 0 24 24\"\n",
              "       width=\"24px\">\n",
              "    <path d=\"M0 0h24v24H0V0z\" fill=\"none\"/>\n",
              "    <path d=\"M18.56 5.44l.94 2.06.94-2.06 2.06-.94-2.06-.94-.94-2.06-.94 2.06-2.06.94zm-11 1L8.5 8.5l.94-2.06 2.06-.94-2.06-.94L8.5 2.5l-.94 2.06-2.06.94zm10 10l.94 2.06.94-2.06 2.06-.94-2.06-.94-.94-2.06-.94 2.06-2.06.94z\"/><path d=\"M17.41 7.96l-1.37-1.37c-.4-.4-.92-.59-1.43-.59-.52 0-1.04.2-1.43.59L10.3 9.45l-7.72 7.72c-.78.78-.78 2.05 0 2.83L4 21.41c.39.39.9.59 1.41.59.51 0 1.02-.2 1.41-.59l7.78-7.78 2.81-2.81c.8-.78.8-2.07 0-2.86zM5.41 20L4 18.59l7.72-7.72 1.47 1.35L5.41 20z\"/>\n",
              "  </svg>\n",
              "      </button>\n",
              "      \n",
              "  <style>\n",
              "    .colab-df-container {\n",
              "      display:flex;\n",
              "      flex-wrap:wrap;\n",
              "      gap: 12px;\n",
              "    }\n",
              "\n",
              "    .colab-df-convert {\n",
              "      background-color: #E8F0FE;\n",
              "      border: none;\n",
              "      border-radius: 50%;\n",
              "      cursor: pointer;\n",
              "      display: none;\n",
              "      fill: #1967D2;\n",
              "      height: 32px;\n",
              "      padding: 0 0 0 0;\n",
              "      width: 32px;\n",
              "    }\n",
              "\n",
              "    .colab-df-convert:hover {\n",
              "      background-color: #E2EBFA;\n",
              "      box-shadow: 0px 1px 2px rgba(60, 64, 67, 0.3), 0px 1px 3px 1px rgba(60, 64, 67, 0.15);\n",
              "      fill: #174EA6;\n",
              "    }\n",
              "\n",
              "    [theme=dark] .colab-df-convert {\n",
              "      background-color: #3B4455;\n",
              "      fill: #D2E3FC;\n",
              "    }\n",
              "\n",
              "    [theme=dark] .colab-df-convert:hover {\n",
              "      background-color: #434B5C;\n",
              "      box-shadow: 0px 1px 3px 1px rgba(0, 0, 0, 0.15);\n",
              "      filter: drop-shadow(0px 1px 2px rgba(0, 0, 0, 0.3));\n",
              "      fill: #FFFFFF;\n",
              "    }\n",
              "  </style>\n",
              "\n",
              "      <script>\n",
              "        const buttonEl =\n",
              "          document.querySelector('#df-dba6b068-c6ba-4657-aab2-639adc57d0e4 button.colab-df-convert');\n",
              "        buttonEl.style.display =\n",
              "          google.colab.kernel.accessAllowed ? 'block' : 'none';\n",
              "\n",
              "        async function convertToInteractive(key) {\n",
              "          const element = document.querySelector('#df-dba6b068-c6ba-4657-aab2-639adc57d0e4');\n",
              "          const dataTable =\n",
              "            await google.colab.kernel.invokeFunction('convertToInteractive',\n",
              "                                                     [key], {});\n",
              "          if (!dataTable) return;\n",
              "\n",
              "          const docLinkHtml = 'Like what you see? Visit the ' +\n",
              "            '<a target=\"_blank\" href=https://colab.research.google.com/notebooks/data_table.ipynb>data table notebook</a>'\n",
              "            + ' to learn more about interactive tables.';\n",
              "          element.innerHTML = '';\n",
              "          dataTable['output_type'] = 'display_data';\n",
              "          await google.colab.output.renderOutput(dataTable, element);\n",
              "          const docLink = document.createElement('div');\n",
              "          docLink.innerHTML = docLinkHtml;\n",
              "          element.appendChild(docLink);\n",
              "        }\n",
              "      </script>\n",
              "    </div>\n",
              "  </div>\n",
              "  "
            ]
          },
          "metadata": {},
          "execution_count": 16
        }
      ]
    },
    {
      "cell_type": "code",
      "source": [
        "df['Reviews'].median()"
      ],
      "metadata": {
        "colab": {
          "base_uri": "https://localhost:8080/"
        },
        "id": "BVYs-W5vT3H8",
        "outputId": "4014f7c5-6318-4b63-88a6-3e8acffcb3df"
      },
      "execution_count": 45,
      "outputs": [
        {
          "output_type": "execute_result",
          "data": {
            "text/plain": [
              "142.0"
            ]
          },
          "metadata": {},
          "execution_count": 45
        }
      ]
    },
    {
      "cell_type": "code",
      "source": [
        "c= df['Reviews']>142\n",
        "df[c].head(3)"
      ],
      "metadata": {
        "id": "46WkQ516qSFi",
        "colab": {
          "base_uri": "https://localhost:8080/",
          "height": 497
        },
        "outputId": "50a71c53-dbf6-4c75-ac29-7c8790d59d6e"
      },
      "execution_count": 85,
      "outputs": [
        {
          "output_type": "execute_result",
          "data": {
            "text/plain": [
              "                                     App Name  \\\n",
              "10  Early Learning App - Kids Piano & Puzzles   \n",
              "11                Early Learning App For Kids   \n",
              "48               Kids Learning Box: Preschool   \n",
              "\n",
              "                             App Id     category  Rating  Rating Count  \\\n",
              "10          education.kids.learning    Education    4.27        846.00   \n",
              "11     earlylearn.kidslearningworld    Education    4.38       7214.00   \n",
              "48  com.kidsappbox.kidslearninggame  Educational    4.38       3967.00   \n",
              "\n",
              "      Installs  Minimum Installs  free  Price Currency  ... In app purchases  \\\n",
              "10    500,000+         500000.00  True   0.00      USD  ...             True   \n",
              "11  1,000,000+        1000000.00  True   0.00      USD  ...            False   \n",
              "48  1,000,000+        1000000.00  True   0.00      USD  ...             True   \n",
              "\n",
              "   Editor Choice                                            Summary Reviews  \\\n",
              "10         False  Kids Piano, Music & ABC Kids Puzzle Games for ...  502.00   \n",
              "11         False  Kids Learning Games for preschoolers, kinderga... 1624.00   \n",
              "48         False  Kids learning games for Preschool and Kinderga... 1001.00   \n",
              "\n",
              "   Android version Text    Developer  \\\n",
              "10           4.1 and up  Early Learn   \n",
              "11           5.0 and up  Early Learn   \n",
              "48           4.1 and up   KidsAppBox   \n",
              "\n",
              "                           Developer Address  Developer Internal ID Version  \\\n",
              "10                                        CA 7415446147207133184.00     2.7   \n",
              "11                                        CA 7415446147207133184.00     5.8   \n",
              "48  3505 El Camino Real, Palo Alto, CA 94306 8840924357018376192.00     1.9   \n",
              "\n",
              "   Rating_b  \n",
              "10     1.00  \n",
              "11     1.00  \n",
              "48     1.00  \n",
              "\n",
              "[3 rows x 30 columns]"
            ],
            "text/html": [
              "\n",
              "  <div id=\"df-f6de03b5-c950-49ef-a411-d7d7eef1c6bc\">\n",
              "    <div class=\"colab-df-container\">\n",
              "      <div>\n",
              "<style scoped>\n",
              "    .dataframe tbody tr th:only-of-type {\n",
              "        vertical-align: middle;\n",
              "    }\n",
              "\n",
              "    .dataframe tbody tr th {\n",
              "        vertical-align: top;\n",
              "    }\n",
              "\n",
              "    .dataframe thead th {\n",
              "        text-align: right;\n",
              "    }\n",
              "</style>\n",
              "<table border=\"1\" class=\"dataframe\">\n",
              "  <thead>\n",
              "    <tr style=\"text-align: right;\">\n",
              "      <th></th>\n",
              "      <th>App Name</th>\n",
              "      <th>App Id</th>\n",
              "      <th>category</th>\n",
              "      <th>Rating</th>\n",
              "      <th>Rating Count</th>\n",
              "      <th>Installs</th>\n",
              "      <th>Minimum Installs</th>\n",
              "      <th>free</th>\n",
              "      <th>Price</th>\n",
              "      <th>Currency</th>\n",
              "      <th>...</th>\n",
              "      <th>In app purchases</th>\n",
              "      <th>Editor Choice</th>\n",
              "      <th>Summary</th>\n",
              "      <th>Reviews</th>\n",
              "      <th>Android version Text</th>\n",
              "      <th>Developer</th>\n",
              "      <th>Developer Address</th>\n",
              "      <th>Developer Internal ID</th>\n",
              "      <th>Version</th>\n",
              "      <th>Rating_b</th>\n",
              "    </tr>\n",
              "  </thead>\n",
              "  <tbody>\n",
              "    <tr>\n",
              "      <th>10</th>\n",
              "      <td>Early Learning App - Kids Piano &amp; Puzzles</td>\n",
              "      <td>education.kids.learning</td>\n",
              "      <td>Education</td>\n",
              "      <td>4.27</td>\n",
              "      <td>846.00</td>\n",
              "      <td>500,000+</td>\n",
              "      <td>500000.00</td>\n",
              "      <td>True</td>\n",
              "      <td>0.00</td>\n",
              "      <td>USD</td>\n",
              "      <td>...</td>\n",
              "      <td>True</td>\n",
              "      <td>False</td>\n",
              "      <td>Kids Piano, Music &amp; ABC Kids Puzzle Games for ...</td>\n",
              "      <td>502.00</td>\n",
              "      <td>4.1 and up</td>\n",
              "      <td>Early Learn</td>\n",
              "      <td>CA</td>\n",
              "      <td>7415446147207133184.00</td>\n",
              "      <td>2.7</td>\n",
              "      <td>1.00</td>\n",
              "    </tr>\n",
              "    <tr>\n",
              "      <th>11</th>\n",
              "      <td>Early Learning App For Kids</td>\n",
              "      <td>earlylearn.kidslearningworld</td>\n",
              "      <td>Education</td>\n",
              "      <td>4.38</td>\n",
              "      <td>7214.00</td>\n",
              "      <td>1,000,000+</td>\n",
              "      <td>1000000.00</td>\n",
              "      <td>True</td>\n",
              "      <td>0.00</td>\n",
              "      <td>USD</td>\n",
              "      <td>...</td>\n",
              "      <td>False</td>\n",
              "      <td>False</td>\n",
              "      <td>Kids Learning Games for preschoolers, kinderga...</td>\n",
              "      <td>1624.00</td>\n",
              "      <td>5.0 and up</td>\n",
              "      <td>Early Learn</td>\n",
              "      <td>CA</td>\n",
              "      <td>7415446147207133184.00</td>\n",
              "      <td>5.8</td>\n",
              "      <td>1.00</td>\n",
              "    </tr>\n",
              "    <tr>\n",
              "      <th>48</th>\n",
              "      <td>Kids Learning Box: Preschool</td>\n",
              "      <td>com.kidsappbox.kidslearninggame</td>\n",
              "      <td>Educational</td>\n",
              "      <td>4.38</td>\n",
              "      <td>3967.00</td>\n",
              "      <td>1,000,000+</td>\n",
              "      <td>1000000.00</td>\n",
              "      <td>True</td>\n",
              "      <td>0.00</td>\n",
              "      <td>USD</td>\n",
              "      <td>...</td>\n",
              "      <td>True</td>\n",
              "      <td>False</td>\n",
              "      <td>Kids learning games for Preschool and Kinderga...</td>\n",
              "      <td>1001.00</td>\n",
              "      <td>4.1 and up</td>\n",
              "      <td>KidsAppBox</td>\n",
              "      <td>3505 El Camino Real, Palo Alto, CA 94306</td>\n",
              "      <td>8840924357018376192.00</td>\n",
              "      <td>1.9</td>\n",
              "      <td>1.00</td>\n",
              "    </tr>\n",
              "  </tbody>\n",
              "</table>\n",
              "<p>3 rows × 30 columns</p>\n",
              "</div>\n",
              "      <button class=\"colab-df-convert\" onclick=\"convertToInteractive('df-f6de03b5-c950-49ef-a411-d7d7eef1c6bc')\"\n",
              "              title=\"Convert this dataframe to an interactive table.\"\n",
              "              style=\"display:none;\">\n",
              "        \n",
              "  <svg xmlns=\"http://www.w3.org/2000/svg\" height=\"24px\"viewBox=\"0 0 24 24\"\n",
              "       width=\"24px\">\n",
              "    <path d=\"M0 0h24v24H0V0z\" fill=\"none\"/>\n",
              "    <path d=\"M18.56 5.44l.94 2.06.94-2.06 2.06-.94-2.06-.94-.94-2.06-.94 2.06-2.06.94zm-11 1L8.5 8.5l.94-2.06 2.06-.94-2.06-.94L8.5 2.5l-.94 2.06-2.06.94zm10 10l.94 2.06.94-2.06 2.06-.94-2.06-.94-.94-2.06-.94 2.06-2.06.94z\"/><path d=\"M17.41 7.96l-1.37-1.37c-.4-.4-.92-.59-1.43-.59-.52 0-1.04.2-1.43.59L10.3 9.45l-7.72 7.72c-.78.78-.78 2.05 0 2.83L4 21.41c.39.39.9.59 1.41.59.51 0 1.02-.2 1.41-.59l7.78-7.78 2.81-2.81c.8-.78.8-2.07 0-2.86zM5.41 20L4 18.59l7.72-7.72 1.47 1.35L5.41 20z\"/>\n",
              "  </svg>\n",
              "      </button>\n",
              "      \n",
              "  <style>\n",
              "    .colab-df-container {\n",
              "      display:flex;\n",
              "      flex-wrap:wrap;\n",
              "      gap: 12px;\n",
              "    }\n",
              "\n",
              "    .colab-df-convert {\n",
              "      background-color: #E8F0FE;\n",
              "      border: none;\n",
              "      border-radius: 50%;\n",
              "      cursor: pointer;\n",
              "      display: none;\n",
              "      fill: #1967D2;\n",
              "      height: 32px;\n",
              "      padding: 0 0 0 0;\n",
              "      width: 32px;\n",
              "    }\n",
              "\n",
              "    .colab-df-convert:hover {\n",
              "      background-color: #E2EBFA;\n",
              "      box-shadow: 0px 1px 2px rgba(60, 64, 67, 0.3), 0px 1px 3px 1px rgba(60, 64, 67, 0.15);\n",
              "      fill: #174EA6;\n",
              "    }\n",
              "\n",
              "    [theme=dark] .colab-df-convert {\n",
              "      background-color: #3B4455;\n",
              "      fill: #D2E3FC;\n",
              "    }\n",
              "\n",
              "    [theme=dark] .colab-df-convert:hover {\n",
              "      background-color: #434B5C;\n",
              "      box-shadow: 0px 1px 3px 1px rgba(0, 0, 0, 0.15);\n",
              "      filter: drop-shadow(0px 1px 2px rgba(0, 0, 0, 0.3));\n",
              "      fill: #FFFFFF;\n",
              "    }\n",
              "  </style>\n",
              "\n",
              "      <script>\n",
              "        const buttonEl =\n",
              "          document.querySelector('#df-f6de03b5-c950-49ef-a411-d7d7eef1c6bc button.colab-df-convert');\n",
              "        buttonEl.style.display =\n",
              "          google.colab.kernel.accessAllowed ? 'block' : 'none';\n",
              "\n",
              "        async function convertToInteractive(key) {\n",
              "          const element = document.querySelector('#df-f6de03b5-c950-49ef-a411-d7d7eef1c6bc');\n",
              "          const dataTable =\n",
              "            await google.colab.kernel.invokeFunction('convertToInteractive',\n",
              "                                                     [key], {});\n",
              "          if (!dataTable) return;\n",
              "\n",
              "          const docLinkHtml = 'Like what you see? Visit the ' +\n",
              "            '<a target=\"_blank\" href=https://colab.research.google.com/notebooks/data_table.ipynb>data table notebook</a>'\n",
              "            + ' to learn more about interactive tables.';\n",
              "          element.innerHTML = '';\n",
              "          dataTable['output_type'] = 'display_data';\n",
              "          await google.colab.output.renderOutput(dataTable, element);\n",
              "          const docLink = document.createElement('div');\n",
              "          docLink.innerHTML = docLinkHtml;\n",
              "          element.appendChild(docLink);\n",
              "        }\n",
              "      </script>\n",
              "    </div>\n",
              "  </div>\n",
              "  "
            ]
          },
          "metadata": {},
          "execution_count": 85
        }
      ]
    },
    {
      "cell_type": "code",
      "source": [
        "len(df[c])"
      ],
      "metadata": {
        "colab": {
          "base_uri": "https://localhost:8080/"
        },
        "id": "O3CrUWOnp01g",
        "outputId": "de068715-800c-47e8-bd4b-ecac72b7ca3c"
      },
      "execution_count": 86,
      "outputs": [
        {
          "output_type": "execute_result",
          "data": {
            "text/plain": [
              "52634"
            ]
          },
          "metadata": {},
          "execution_count": 86
        }
      ]
    },
    {
      "cell_type": "code",
      "source": [
        "df1=df[c]\n",
        "df1.shape"
      ],
      "metadata": {
        "colab": {
          "base_uri": "https://localhost:8080/"
        },
        "id": "QBdSSDDGp8Nm",
        "outputId": "2923d8fd-82c8-46f8-e8bc-ff57be8157e3"
      },
      "execution_count": 87,
      "outputs": [
        {
          "output_type": "execute_result",
          "data": {
            "text/plain": [
              "(52634, 30)"
            ]
          },
          "metadata": {},
          "execution_count": 87
        }
      ]
    },
    {
      "cell_type": "code",
      "source": [
        "# 변수명을 소문자로 시작하게 변경\n",
        "df1 = df1.rename(columns={'Free' : 'free'})\n",
        "df1 = df1.rename(columns={'Category' : 'category'})\n",
        "df1 = df1.rename(columns={'Ad Supported' : 'ad supported'})"
      ],
      "metadata": {
        "id": "x3qE90i-Uk74"
      },
      "execution_count": 88,
      "outputs": []
    },
    {
      "cell_type": "code",
      "source": [
        "# 범주형 변수를 cols1에 저장.\n",
        "cols1 = ['free', 'category', 'ad supported']\n",
        "df1 = df[cols1] \n",
        "df1[cols1].isnull().sum()"
      ],
      "metadata": {
        "colab": {
          "base_uri": "https://localhost:8080/"
        },
        "id": "EO0ukIUKV3h9",
        "outputId": "159db70c-1645-4e01-a4db-fa35d87abdae"
      },
      "execution_count": 89,
      "outputs": [
        {
          "output_type": "execute_result",
          "data": {
            "text/plain": [
              "free            0\n",
              "category        0\n",
              "ad supported    0\n",
              "dtype: int64"
            ]
          },
          "metadata": {},
          "execution_count": 89
        }
      ]
    },
    {
      "cell_type": "code",
      "source": [
        "df1[cols1].dtypes"
      ],
      "metadata": {
        "colab": {
          "base_uri": "https://localhost:8080/"
        },
        "id": "uue_GkE8WQjh",
        "outputId": "0465dfcd-0eb3-459c-af54-2691f37e066c"
      },
      "execution_count": 90,
      "outputs": [
        {
          "output_type": "execute_result",
          "data": {
            "text/plain": [
              "free            object\n",
              "category        object\n",
              "ad supported    object\n",
              "dtype: object"
            ]
          },
          "metadata": {},
          "execution_count": 90
        }
      ]
    },
    {
      "cell_type": "markdown",
      "source": [
        "## 5.1.8 결측값 50% 초과 변수 제거"
      ],
      "metadata": {
        "id": "575g2vIC0hjg"
      }
    },
    {
      "cell_type": "code",
      "source": [
        "df1.isna().any()[lambda x: x]"
      ],
      "metadata": {
        "colab": {
          "base_uri": "https://localhost:8080/"
        },
        "id": "-tF5mCukWVQ0",
        "outputId": "f361cdae-0849-4c32-9133-64e5bd3bae37"
      },
      "execution_count": 53,
      "outputs": [
        {
          "output_type": "execute_result",
          "data": {
            "text/plain": [
              "Series([], dtype: bool)"
            ]
          },
          "metadata": {},
          "execution_count": 53
        }
      ]
    },
    {
      "cell_type": "markdown",
      "source": [
        "## 5.1.9 요약통계 및 도수분포표 점검"
      ],
      "metadata": {
        "id": "acVLvPux0qp1"
      }
    },
    {
      "cell_type": "code",
      "source": [
        "cols = ['Minimum Installs','Reviews'] # 구간 변수를 cols에 저장 \n",
        "df[cols].describe()"
      ],
      "metadata": {
        "colab": {
          "base_uri": "https://localhost:8080/",
          "height": 300
        },
        "id": "dDlcEVz6Wawv",
        "outputId": "a7af6665-04e7-446e-f4c7-8f546fa2557f"
      },
      "execution_count": 97,
      "outputs": [
        {
          "output_type": "execute_result",
          "data": {
            "text/plain": [
              "       Minimum Installs     Reviews\n",
              "count         105372.00   105372.00\n",
              "mean         1655931.02    12405.23\n",
              "std         31156977.12   258328.96\n",
              "min                0.00        0.00\n",
              "25%             5000.00       20.00\n",
              "50%            50000.00      142.00\n",
              "75%           500000.00     1295.00\n",
              "max       5000000000.00 39985223.00"
            ],
            "text/html": [
              "\n",
              "  <div id=\"df-1771ddf0-7f6e-4b9c-8472-aca70dbcb18c\">\n",
              "    <div class=\"colab-df-container\">\n",
              "      <div>\n",
              "<style scoped>\n",
              "    .dataframe tbody tr th:only-of-type {\n",
              "        vertical-align: middle;\n",
              "    }\n",
              "\n",
              "    .dataframe tbody tr th {\n",
              "        vertical-align: top;\n",
              "    }\n",
              "\n",
              "    .dataframe thead th {\n",
              "        text-align: right;\n",
              "    }\n",
              "</style>\n",
              "<table border=\"1\" class=\"dataframe\">\n",
              "  <thead>\n",
              "    <tr style=\"text-align: right;\">\n",
              "      <th></th>\n",
              "      <th>Minimum Installs</th>\n",
              "      <th>Reviews</th>\n",
              "    </tr>\n",
              "  </thead>\n",
              "  <tbody>\n",
              "    <tr>\n",
              "      <th>count</th>\n",
              "      <td>105372.00</td>\n",
              "      <td>105372.00</td>\n",
              "    </tr>\n",
              "    <tr>\n",
              "      <th>mean</th>\n",
              "      <td>1655931.02</td>\n",
              "      <td>12405.23</td>\n",
              "    </tr>\n",
              "    <tr>\n",
              "      <th>std</th>\n",
              "      <td>31156977.12</td>\n",
              "      <td>258328.96</td>\n",
              "    </tr>\n",
              "    <tr>\n",
              "      <th>min</th>\n",
              "      <td>0.00</td>\n",
              "      <td>0.00</td>\n",
              "    </tr>\n",
              "    <tr>\n",
              "      <th>25%</th>\n",
              "      <td>5000.00</td>\n",
              "      <td>20.00</td>\n",
              "    </tr>\n",
              "    <tr>\n",
              "      <th>50%</th>\n",
              "      <td>50000.00</td>\n",
              "      <td>142.00</td>\n",
              "    </tr>\n",
              "    <tr>\n",
              "      <th>75%</th>\n",
              "      <td>500000.00</td>\n",
              "      <td>1295.00</td>\n",
              "    </tr>\n",
              "    <tr>\n",
              "      <th>max</th>\n",
              "      <td>5000000000.00</td>\n",
              "      <td>39985223.00</td>\n",
              "    </tr>\n",
              "  </tbody>\n",
              "</table>\n",
              "</div>\n",
              "      <button class=\"colab-df-convert\" onclick=\"convertToInteractive('df-1771ddf0-7f6e-4b9c-8472-aca70dbcb18c')\"\n",
              "              title=\"Convert this dataframe to an interactive table.\"\n",
              "              style=\"display:none;\">\n",
              "        \n",
              "  <svg xmlns=\"http://www.w3.org/2000/svg\" height=\"24px\"viewBox=\"0 0 24 24\"\n",
              "       width=\"24px\">\n",
              "    <path d=\"M0 0h24v24H0V0z\" fill=\"none\"/>\n",
              "    <path d=\"M18.56 5.44l.94 2.06.94-2.06 2.06-.94-2.06-.94-.94-2.06-.94 2.06-2.06.94zm-11 1L8.5 8.5l.94-2.06 2.06-.94-2.06-.94L8.5 2.5l-.94 2.06-2.06.94zm10 10l.94 2.06.94-2.06 2.06-.94-2.06-.94-.94-2.06-.94 2.06-2.06.94z\"/><path d=\"M17.41 7.96l-1.37-1.37c-.4-.4-.92-.59-1.43-.59-.52 0-1.04.2-1.43.59L10.3 9.45l-7.72 7.72c-.78.78-.78 2.05 0 2.83L4 21.41c.39.39.9.59 1.41.59.51 0 1.02-.2 1.41-.59l7.78-7.78 2.81-2.81c.8-.78.8-2.07 0-2.86zM5.41 20L4 18.59l7.72-7.72 1.47 1.35L5.41 20z\"/>\n",
              "  </svg>\n",
              "      </button>\n",
              "      \n",
              "  <style>\n",
              "    .colab-df-container {\n",
              "      display:flex;\n",
              "      flex-wrap:wrap;\n",
              "      gap: 12px;\n",
              "    }\n",
              "\n",
              "    .colab-df-convert {\n",
              "      background-color: #E8F0FE;\n",
              "      border: none;\n",
              "      border-radius: 50%;\n",
              "      cursor: pointer;\n",
              "      display: none;\n",
              "      fill: #1967D2;\n",
              "      height: 32px;\n",
              "      padding: 0 0 0 0;\n",
              "      width: 32px;\n",
              "    }\n",
              "\n",
              "    .colab-df-convert:hover {\n",
              "      background-color: #E2EBFA;\n",
              "      box-shadow: 0px 1px 2px rgba(60, 64, 67, 0.3), 0px 1px 3px 1px rgba(60, 64, 67, 0.15);\n",
              "      fill: #174EA6;\n",
              "    }\n",
              "\n",
              "    [theme=dark] .colab-df-convert {\n",
              "      background-color: #3B4455;\n",
              "      fill: #D2E3FC;\n",
              "    }\n",
              "\n",
              "    [theme=dark] .colab-df-convert:hover {\n",
              "      background-color: #434B5C;\n",
              "      box-shadow: 0px 1px 3px 1px rgba(0, 0, 0, 0.15);\n",
              "      filter: drop-shadow(0px 1px 2px rgba(0, 0, 0, 0.3));\n",
              "      fill: #FFFFFF;\n",
              "    }\n",
              "  </style>\n",
              "\n",
              "      <script>\n",
              "        const buttonEl =\n",
              "          document.querySelector('#df-1771ddf0-7f6e-4b9c-8472-aca70dbcb18c button.colab-df-convert');\n",
              "        buttonEl.style.display =\n",
              "          google.colab.kernel.accessAllowed ? 'block' : 'none';\n",
              "\n",
              "        async function convertToInteractive(key) {\n",
              "          const element = document.querySelector('#df-1771ddf0-7f6e-4b9c-8472-aca70dbcb18c');\n",
              "          const dataTable =\n",
              "            await google.colab.kernel.invokeFunction('convertToInteractive',\n",
              "                                                     [key], {});\n",
              "          if (!dataTable) return;\n",
              "\n",
              "          const docLinkHtml = 'Like what you see? Visit the ' +\n",
              "            '<a target=\"_blank\" href=https://colab.research.google.com/notebooks/data_table.ipynb>data table notebook</a>'\n",
              "            + ' to learn more about interactive tables.';\n",
              "          element.innerHTML = '';\n",
              "          dataTable['output_type'] = 'display_data';\n",
              "          await google.colab.output.renderOutput(dataTable, element);\n",
              "          const docLink = document.createElement('div');\n",
              "          docLink.innerHTML = docLinkHtml;\n",
              "          element.appendChild(docLink);\n",
              "        }\n",
              "      </script>\n",
              "    </div>\n",
              "  </div>\n",
              "  "
            ]
          },
          "metadata": {},
          "execution_count": 97
        }
      ]
    },
    {
      "cell_type": "code",
      "source": [
        "col_log = df[cols].transform(lambda x: np.log(x+1))  "
      ],
      "metadata": {
        "id": "9xFpVQ7905EW"
      },
      "execution_count": 98,
      "outputs": []
    },
    {
      "cell_type": "code",
      "source": [
        "col_log.skew()"
      ],
      "metadata": {
        "colab": {
          "base_uri": "https://localhost:8080/"
        },
        "id": "Ag96WHcOWq6d",
        "outputId": "ac51a900-987c-4922-8876-7870f737948f"
      },
      "execution_count": 99,
      "outputs": [
        {
          "output_type": "execute_result",
          "data": {
            "text/plain": [
              "Minimum Installs   0.11\n",
              "Reviews            0.48\n",
              "dtype: float64"
            ]
          },
          "metadata": {},
          "execution_count": 99
        }
      ]
    },
    {
      "cell_type": "code",
      "source": [
        "col_log.kurtosis()"
      ],
      "metadata": {
        "colab": {
          "base_uri": "https://localhost:8080/"
        },
        "id": "PwoPG4JBWv6M",
        "outputId": "d914ea40-1900-44be-f457-4d678e765409"
      },
      "execution_count": 100,
      "outputs": [
        {
          "output_type": "execute_result",
          "data": {
            "text/plain": [
              "Minimum Installs   -0.41\n",
              "Reviews            -0.36\n",
              "dtype: float64"
            ]
          },
          "metadata": {},
          "execution_count": 100
        }
      ]
    },
    {
      "cell_type": "markdown",
      "source": [
        "## 5.1.10 이상값 제거"
      ],
      "metadata": {
        "id": "boya8j2U1Hi8"
      }
    },
    {
      "cell_type": "code",
      "source": [
        "import matplotlib.pyplot as plt\n",
        "import seaborn as sns\n",
        "\n",
        "fig, axes = plt.subplots(1, 2, figsize=(15, 4))\n",
        "\n",
        "sns.histplot(ax=axes[0], data=df, x=\"Minimum Installs\", kde=True, bins=20);\n",
        "sns.histplot(ax=axes[1], data=df, x=\"Reviews\", kde=True, bins=20);\n",
        "plt.show(); "
      ],
      "metadata": {
        "colab": {
          "base_uri": "https://localhost:8080/",
          "height": 366
        },
        "id": "pWWgkpWPW697",
        "outputId": "47b55bae-79a9-430f-ceaf-720a45fdc9e2"
      },
      "execution_count": 101,
      "outputs": [
        {
          "output_type": "display_data",
          "data": {
            "text/plain": [
              "<Figure size 1500x400 with 2 Axes>"
            ],
            "image/png": "[encoded data removed]"
          },
          "metadata": {}
        }
      ]
    },
    {
      "cell_type": "code",
      "source": [
        "sns.set_style('whitegrid')\n",
        "\n",
        "fig, axes = plt.subplots(1, 2, figsize=(15, 4))\n",
        "\n",
        "sns.boxplot(ax=axes[0], x = 'Minimum Installs', data = df) \n",
        "sns.boxplot(ax=axes[1], x = 'Reviews', data = df) "
      ],
      "metadata": {
        "colab": {
          "base_uri": "https://localhost:8080/",
          "height": 385
        },
        "id": "zE9vZ9EeW-Zk",
        "outputId": "a409c7e8-f152-40eb-c614-907286d930f1"
      },
      "execution_count": 102,
      "outputs": [
        {
          "output_type": "execute_result",
          "data": {
            "text/plain": [
              "<Axes: xlabel='Reviews'>"
            ]
          },
          "metadata": {},
          "execution_count": 102
        },
        {
          "output_type": "display_data",
          "data": {
            "text/plain": [
              "<Figure size 1500x400 with 2 Axes>"
            ],
            "image/png": "[encoded data removed]"
          },
          "metadata": {}
        }
      ]
    },
    {
      "cell_type": "code",
      "source": [
        "Q1 = df[['Minimum Installs','Reviews']].quantile(0.25)\n",
        "Q3 = df[['Minimum Installs','Reviews']].quantile(0.75)\n",
        "IQR = Q3 - Q1\n",
        "print(IQR)"
      ],
      "metadata": {
        "colab": {
          "base_uri": "https://localhost:8080/"
        },
        "id": "FCH1579OXuzM",
        "outputId": "2e38a9d2-f988-4591-d747-ebd84f238084"
      },
      "execution_count": 103,
      "outputs": [
        {
          "output_type": "stream",
          "name": "stdout",
          "text": [
            "Minimum Installs   495000.00\n",
            "Reviews              1275.00\n",
            "dtype: float64\n"
          ]
        }
      ]
    },
    {
      "cell_type": "code",
      "source": [
        "Lower = Q1-3.0*IQR\n",
        "Upper = Q3+3.0*IQR\n",
        "print(Lower)"
      ],
      "metadata": {
        "colab": {
          "base_uri": "https://localhost:8080/"
        },
        "id": "ka2tarZvX_mL",
        "outputId": "7accc5d1-c836-4b4d-e3bf-2d151db3911b"
      },
      "execution_count": 104,
      "outputs": [
        {
          "output_type": "stream",
          "name": "stdout",
          "text": [
            "Minimum Installs   -1480000.00\n",
            "Reviews               -3805.00\n",
            "dtype: float64\n"
          ]
        }
      ]
    },
    {
      "cell_type": "code",
      "source": [
        "print(Upper)"
      ],
      "metadata": {
        "colab": {
          "base_uri": "https://localhost:8080/"
        },
        "id": "ZOJOSipyYIZi",
        "outputId": "c24c872d-c8ac-404a-f978-e3174b9f1499"
      },
      "execution_count": 105,
      "outputs": [
        {
          "output_type": "stream",
          "name": "stdout",
          "text": [
            "Minimum Installs   1985000.00\n",
            "Reviews               5120.00\n",
            "dtype: float64\n"
          ]
        }
      ]
    },
    {
      "cell_type": "code",
      "source": [
        "df['Minimum Installs'].value_counts(dropna=False)"
      ],
      "metadata": {
        "id": "jhGS_pG0YLFX",
        "colab": {
          "base_uri": "https://localhost:8080/"
        },
        "outputId": "7a4f9922-2ea5-48e2-a4b2-b742409a6a0d"
      },
      "execution_count": 106,
      "outputs": [
        {
          "output_type": "execute_result",
          "data": {
            "text/plain": [
              "10000.00         20575\n",
              "100000.00        20189\n",
              "1000.00          13668\n",
              "1000000.00       12832\n",
              "50000.00          9519\n",
              "5000.00           7886\n",
              "500000.00         7563\n",
              "10000000.00       3641\n",
              "5000000.00        3382\n",
              "500.00            2679\n",
              "100.00            2130\n",
              "50000000.00        546\n",
              "100000000.00       325\n",
              "50.00              234\n",
              "10.00              150\n",
              "500000000.00        18\n",
              "1000000000.00       18\n",
              "0.00                11\n",
              "5000000000.00        3\n",
              "1.00                 2\n",
              "5.00                 1\n",
              "Name: Minimum Installs, dtype: int64"
            ]
          },
          "metadata": {},
          "execution_count": 106
        }
      ]
    },
    {
      "cell_type": "code",
      "source": [
        "df['Minimum Installs'].value_counts(dropna=False)"
      ],
      "metadata": {
        "colab": {
          "base_uri": "https://localhost:8080/"
        },
        "id": "ZOFIPaksYaJK",
        "outputId": "ca32e776-e92c-40c8-8d3c-18ccf29117d2"
      },
      "execution_count": 107,
      "outputs": [
        {
          "output_type": "execute_result",
          "data": {
            "text/plain": [
              "10000.00         20575\n",
              "100000.00        20189\n",
              "1000.00          13668\n",
              "1000000.00       12832\n",
              "50000.00          9519\n",
              "5000.00           7886\n",
              "500000.00         7563\n",
              "10000000.00       3641\n",
              "5000000.00        3382\n",
              "500.00            2679\n",
              "100.00            2130\n",
              "50000000.00        546\n",
              "100000000.00       325\n",
              "50.00              234\n",
              "10.00              150\n",
              "500000000.00        18\n",
              "1000000000.00       18\n",
              "0.00                11\n",
              "5000000000.00        3\n",
              "1.00                 2\n",
              "5.00                 1\n",
              "Name: Minimum Installs, dtype: int64"
            ]
          },
          "metadata": {},
          "execution_count": 107
        }
      ]
    },
    {
      "cell_type": "code",
      "source": [
        "c1 = df['Minimum Installs'] <= 3700000\n",
        "c2 = df['Reviews'] <= 22204\n",
        "df2 = df[c1 & c2]\n",
        "df2.shape"
      ],
      "metadata": {
        "colab": {
          "base_uri": "https://localhost:8080/"
        },
        "id": "51cAhno0wujg",
        "outputId": "46919d94-fdaa-4204-a6cb-5eaae36a82b5"
      },
      "execution_count": 108,
      "outputs": [
        {
          "output_type": "execute_result",
          "data": {
            "text/plain": [
              "(96404, 30)"
            ]
          },
          "metadata": {},
          "execution_count": 108
        }
      ]
    },
    {
      "cell_type": "code",
      "source": [
        "fig, axes = plt.subplots(1, 2, figsize=(15, 4))\n",
        "\n",
        "sns.boxplot(ax=axes[0], x = 'Minimum Installs', data = df2) \n",
        "sns.boxplot(ax=axes[1], x = 'Reviews', data = df2) ;"
      ],
      "metadata": {
        "colab": {
          "base_uri": "https://localhost:8080/",
          "height": 366
        },
        "id": "0oLvRpbIbnSg",
        "outputId": "717c6672-024e-417e-9c14-c6c6210f473d"
      },
      "execution_count": 109,
      "outputs": [
        {
          "output_type": "display_data",
          "data": {
            "text/plain": [
              "<Figure size 1500x400 with 2 Axes>"
            ],
            "image/png": "[encoded data removed]"
          },
          "metadata": {}
        }
      ]
    },
    {
      "cell_type": "markdown",
      "source": [
        "# 5.1.11 상관관계 검토"
      ],
      "metadata": {
        "id": "6t-lfD1F1Ta_"
      }
    },
    {
      "cell_type": "code",
      "source": [
        "cols = ['Minimum Installs','Reviews'] # 구간 변수를 cols에 저장\n",
        "round(df2[cols].corr(), 2)       "
      ],
      "metadata": {
        "id": "H72z_uGNbvzx",
        "colab": {
          "base_uri": "https://localhost:8080/",
          "height": 112
        },
        "outputId": "2265024c-cb1f-4abe-cbc4-94e82b51c4e6"
      },
      "execution_count": 110,
      "outputs": [
        {
          "output_type": "execute_result",
          "data": {
            "text/plain": [
              "                  Minimum Installs  Reviews\n",
              "Minimum Installs              1.00     0.67\n",
              "Reviews                       0.67     1.00"
            ],
            "text/html": [
              "\n",
              "  <div id=\"df-3ab69322-2cdd-4eba-be3d-301323d65daa\">\n",
              "    <div class=\"colab-df-container\">\n",
              "      <div>\n",
              "<style scoped>\n",
              "    .dataframe tbody tr th:only-of-type {\n",
              "        vertical-align: middle;\n",
              "    }\n",
              "\n",
              "    .dataframe tbody tr th {\n",
              "        vertical-align: top;\n",
              "    }\n",
              "\n",
              "    .dataframe thead th {\n",
              "        text-align: right;\n",
              "    }\n",
              "</style>\n",
              "<table border=\"1\" class=\"dataframe\">\n",
              "  <thead>\n",
              "    <tr style=\"text-align: right;\">\n",
              "      <th></th>\n",
              "      <th>Minimum Installs</th>\n",
              "      <th>Reviews</th>\n",
              "    </tr>\n",
              "  </thead>\n",
              "  <tbody>\n",
              "    <tr>\n",
              "      <th>Minimum Installs</th>\n",
              "      <td>1.00</td>\n",
              "      <td>0.67</td>\n",
              "    </tr>\n",
              "    <tr>\n",
              "      <th>Reviews</th>\n",
              "      <td>0.67</td>\n",
              "      <td>1.00</td>\n",
              "    </tr>\n",
              "  </tbody>\n",
              "</table>\n",
              "</div>\n",
              "      <button class=\"colab-df-convert\" onclick=\"convertToInteractive('df-3ab69322-2cdd-4eba-be3d-301323d65daa')\"\n",
              "              title=\"Convert this dataframe to an interactive table.\"\n",
              "              style=\"display:none;\">\n",
              "        \n",
              "  <svg xmlns=\"http://www.w3.org/2000/svg\" height=\"24px\"viewBox=\"0 0 24 24\"\n",
              "       width=\"24px\">\n",
              "    <path d=\"M0 0h24v24H0V0z\" fill=\"none\"/>\n",
              "    <path d=\"M18.56 5.44l.94 2.06.94-2.06 2.06-.94-2.06-.94-.94-2.06-.94 2.06-2.06.94zm-11 1L8.5 8.5l.94-2.06 2.06-.94-2.06-.94L8.5 2.5l-.94 2.06-2.06.94zm10 10l.94 2.06.94-2.06 2.06-.94-2.06-.94-.94-2.06-.94 2.06-2.06.94z\"/><path d=\"M17.41 7.96l-1.37-1.37c-.4-.4-.92-.59-1.43-.59-.52 0-1.04.2-1.43.59L10.3 9.45l-7.72 7.72c-.78.78-.78 2.05 0 2.83L4 21.41c.39.39.9.59 1.41.59.51 0 1.02-.2 1.41-.59l7.78-7.78 2.81-2.81c.8-.78.8-2.07 0-2.86zM5.41 20L4 18.59l7.72-7.72 1.47 1.35L5.41 20z\"/>\n",
              "  </svg>\n",
              "      </button>\n",
              "      \n",
              "  <style>\n",
              "    .colab-df-container {\n",
              "      display:flex;\n",
              "      flex-wrap:wrap;\n",
              "      gap: 12px;\n",
              "    }\n",
              "\n",
              "    .colab-df-convert {\n",
              "      background-color: #E8F0FE;\n",
              "      border: none;\n",
              "      border-radius: 50%;\n",
              "      cursor: pointer;\n",
              "      display: none;\n",
              "      fill: #1967D2;\n",
              "      height: 32px;\n",
              "      padding: 0 0 0 0;\n",
              "      width: 32px;\n",
              "    }\n",
              "\n",
              "    .colab-df-convert:hover {\n",
              "      background-color: #E2EBFA;\n",
              "      box-shadow: 0px 1px 2px rgba(60, 64, 67, 0.3), 0px 1px 3px 1px rgba(60, 64, 67, 0.15);\n",
              "      fill: #174EA6;\n",
              "    }\n",
              "\n",
              "    [theme=dark] .colab-df-convert {\n",
              "      background-color: #3B4455;\n",
              "      fill: #D2E3FC;\n",
              "    }\n",
              "\n",
              "    [theme=dark] .colab-df-convert:hover {\n",
              "      background-color: #434B5C;\n",
              "      box-shadow: 0px 1px 3px 1px rgba(0, 0, 0, 0.15);\n",
              "      filter: drop-shadow(0px 1px 2px rgba(0, 0, 0, 0.3));\n",
              "      fill: #FFFFFF;\n",
              "    }\n",
              "  </style>\n",
              "\n",
              "      <script>\n",
              "        const buttonEl =\n",
              "          document.querySelector('#df-3ab69322-2cdd-4eba-be3d-301323d65daa button.colab-df-convert');\n",
              "        buttonEl.style.display =\n",
              "          google.colab.kernel.accessAllowed ? 'block' : 'none';\n",
              "\n",
              "        async function convertToInteractive(key) {\n",
              "          const element = document.querySelector('#df-3ab69322-2cdd-4eba-be3d-301323d65daa');\n",
              "          const dataTable =\n",
              "            await google.colab.kernel.invokeFunction('convertToInteractive',\n",
              "                                                     [key], {});\n",
              "          if (!dataTable) return;\n",
              "\n",
              "          const docLinkHtml = 'Like what you see? Visit the ' +\n",
              "            '<a target=\"_blank\" href=https://colab.research.google.com/notebooks/data_table.ipynb>data table notebook</a>'\n",
              "            + ' to learn more about interactive tables.';\n",
              "          element.innerHTML = '';\n",
              "          dataTable['output_type'] = 'display_data';\n",
              "          await google.colab.output.renderOutput(dataTable, element);\n",
              "          const docLink = document.createElement('div');\n",
              "          docLink.innerHTML = docLinkHtml;\n",
              "          element.appendChild(docLink);\n",
              "        }\n",
              "      </script>\n",
              "    </div>\n",
              "  </div>\n",
              "  "
            ]
          },
          "metadata": {},
          "execution_count": 110
        }
      ]
    },
    {
      "cell_type": "code",
      "source": [
        "# 추가 코딩\n",
        "import seaborn as sns\n",
        "\n",
        "corr = df2[cols].corr()  \n",
        "annot_kws = {\"ha\": 'center',\"va\": 'top'}\n",
        "sns.heatmap(data=corr, annot=True, annot_kws=annot_kws, cmap=\"YlGnBu\");"
      ],
      "metadata": {
        "colab": {
          "base_uri": "https://localhost:8080/",
          "height": 435
        },
        "id": "L7pJbDN1loor",
        "outputId": "238275b0-4da9-4bc9-efba-87922a0a1288"
      },
      "execution_count": 111,
      "outputs": [
        {
          "output_type": "display_data",
          "data": {
            "text/plain": [
              "<Figure size 640x480 with 2 Axes>"
            ],
            "image/png": "[encoded data removed]"
          },
          "metadata": {}
        }
      ]
    },
    {
      "cell_type": "code",
      "source": [
        "df2.to_csv('/content/drive/MyDrive/Colab Notebooks/project roadmap/dataset.csv',index=False)"
      ],
      "metadata": {
        "id": "UjmSeqWaySln"
      },
      "execution_count": 112,
      "outputs": []
    },
    {
      "cell_type": "markdown",
      "source": [
        "## 5.1.13 t-검정"
      ],
      "metadata": {
        "id": "ip-nSOJh1ZjE"
      }
    },
    {
      "cell_type": "code",
      "source": [
        "from scipy import stats\n",
        "\n",
        "data_1 = df2[df2['Rating_b'] == 1]['Reviews']\n",
        "data_0 = df2[df2['Rating_b'] == 0]['Reviews']\n",
        "\n",
        "stats.ttest_ind(data_1, data_0)   # 결과는 pvalue < 0.05 "
      ],
      "metadata": {
        "colab": {
          "base_uri": "https://localhost:8080/"
        },
        "id": "rUAzQZf5ysf_",
        "outputId": "f56edbba-f668-4185-e827-e0a530d70b4a"
      },
      "execution_count": 113,
      "outputs": [
        {
          "output_type": "execute_result",
          "data": {
            "text/plain": [
              "Ttest_indResult(statistic=29.130515588288894, pvalue=9.483352456336635e-186)"
            ]
          },
          "metadata": {},
          "execution_count": 113
        }
      ]
    }
  ]
}